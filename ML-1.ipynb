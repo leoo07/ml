{
 "cells": [
  {
   "cell_type": "code",
   "execution_count": 1,
   "id": "9e7d38eb",
   "metadata": {},
   "outputs": [
    {
     "name": "stdout",
     "output_type": "stream",
     "text": [
      "121.24000000000001\n"
     ]
    }
   ],
   "source": [
    "import math\n",
    "arr=[115.3,195.5,120.5,110.2,90.4,105.6,110.9,116.3,122.3,125.4]\n",
    "sum=0\n",
    "for i in arr:\n",
    "    sum = sum+i\n",
    "mean = sum/len(arr)\n",
    "print(mean)"
   ]
  },
  {
   "cell_type": "code",
   "execution_count": 3,
   "id": "491a309d",
   "metadata": {},
   "outputs": [
    {
     "name": "stdout",
     "output_type": "stream",
     "text": [
      "118.4\n"
     ]
    }
   ],
   "source": [
    "arr.sort()\n",
    "mid = len(arr)//2\n",
    "median = (arr[mid]+arr[mid+1])/2\n",
    "print(median)"
   ]
  },
  {
   "cell_type": "code",
   "execution_count": 5,
   "id": "7ad42cb3",
   "metadata": {},
   "outputs": [
    {
     "name": "stdout",
     "output_type": "stream",
     "text": [
      "No mode\n"
     ]
    }
   ],
   "source": [
    "mod=0\n",
    "var=0.0\n",
    "dif=0.0\n",
    "m=0\n",
    "count=1\n",
    "for i in range(0,10):\n",
    "    for j in range(i+1,10):\n",
    "        if(arr[i]==arr[j]):\n",
    "            count=count+1\n",
    "    if count>m:\n",
    "        m=count\n",
    "        mod = arr[i]\n",
    "if m==1:\n",
    "    print(\"No mode\")\n",
    "else:\n",
    "    print(\"Mode:\", mod)"
   ]
  },
  {
   "cell_type": "code",
   "execution_count": 6,
   "id": "881c8833",
   "metadata": {},
   "outputs": [
    {
     "data": {
      "text/plain": [
       "7017.724"
      ]
     },
     "execution_count": 6,
     "metadata": {},
     "output_type": "execute_result"
    }
   ],
   "source": [
    "for i in arr:\n",
    "    diff=i-mean\n",
    "    var = var+diff**2\n",
    "var"
   ]
  },
  {
   "cell_type": "code",
   "execution_count": 8,
   "id": "efb9a276",
   "metadata": {},
   "outputs": [
    {
     "data": {
      "text/plain": [
       "83.7718568494217"
      ]
     },
     "execution_count": 8,
     "metadata": {},
     "output_type": "execute_result"
    }
   ],
   "source": [
    "stddev = math.sqrt(var)\n",
    "stddev"
   ]
  },
  {
   "cell_type": "code",
   "execution_count": 9,
   "id": "4d79c1b2",
   "metadata": {},
   "outputs": [
    {
     "name": "stdout",
     "output_type": "stream",
     "text": [
      "0.0\n",
      "0.14462416745956222\n",
      "0.18839200761179828\n",
      "0.1950523311132255\n",
      "0.23691722169362506\n",
      "0.24643196955280677\n",
      "0.2863939105613701\n",
      "0.3035204567078972\n",
      "0.3330161750713606\n",
      "1.0\n"
     ]
    }
   ],
   "source": [
    "diff=arr[9]-arr[0]\n",
    "for i in arr:\n",
    "    y=(i-arr[0])/diff\n",
    "    print(y)"
   ]
  },
  {
   "cell_type": "code",
   "execution_count": 10,
   "id": "2f6e9233",
   "metadata": {},
   "outputs": [
    {
     "name": "stdout",
     "output_type": "stream",
     "text": [
      "-0.3681427290722982\n",
      "-0.1866975448343304\n",
      "-0.1317865022359979\n",
      "-0.12343047401451247\n",
      "-0.07090686805089026\n",
      "-0.05896968487733974\n",
      "-0.008833515548427498\n",
      "0.012653414163963414\n",
      "0.04965868200197015\n",
      "0.8864552224678619\n"
     ]
    }
   ],
   "source": [
    "for i in arr:\n",
    "    y = (i-mean)/stddev\n",
    "    print(y)"
   ]
  },
  {
   "cell_type": "code",
   "execution_count": null,
   "id": "b13206d2",
   "metadata": {},
   "outputs": [],
   "source": []
  }
 ],
 "metadata": {
  "kernelspec": {
   "display_name": "Python 3 (ipykernel)",
   "language": "python",
   "name": "python3"
  },
  "language_info": {
   "codemirror_mode": {
    "name": "ipython",
    "version": 3
   },
   "file_extension": ".py",
   "mimetype": "text/x-python",
   "name": "python",
   "nbconvert_exporter": "python",
   "pygments_lexer": "ipython3",
   "version": "3.9.7"
  }
 },
 "nbformat": 4,
 "nbformat_minor": 5
}
